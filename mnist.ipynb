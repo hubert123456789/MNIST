{
 "cells": [
  {
   "cell_type": "code",
   "execution_count": 7,
   "metadata": {
    "_cell_guid": "3c36726d-ce77-435a-a9f1-09953b271396",
    "_uuid": "4c6a8dfd1f727083b544bfacef6e505b8d2a8aab"
   },
   "outputs": [
    {
     "name": "stdout",
     "output_type": "stream",
     "text": [
      "test.csv\n",
      "train.csv\n",
      "\n"
     ]
    }
   ],
   "source": [
    "# This Python 3 environment comes with many helpful analytics libraries installed\n",
    "# It is defined by the kaggle/python docker image: https://github.com/kaggle/docker-python\n",
    "# For example, here's several helpful packages to load in \n",
    "\n",
    "import numpy as np # linear algebra\n",
    "import pandas as pd # data processing, CSV file I/O (e.g. pd.read_csv)\n",
    "from sklearn import metrics\n",
    "import matplotlib.pyplot as plt\n",
    "\n",
    "%matplotlib inline\n",
    "\n",
    "# Input data files are available in the \"../input/\" directory.\n",
    "# For example, running this (by clicking run or pressing Shift+Enter) will list the files in the input directory\n",
    "\n",
    "from subprocess import check_output\n",
    "print(check_output([\"ls\", \"./input\"]).decode(\"utf8\"))\n",
    "\n",
    "# Any results you write to the current directory are saved as output."
   ]
  },
  {
   "cell_type": "code",
   "execution_count": 8,
   "metadata": {
    "_cell_guid": "9af63d7d-fc00-4673-b8fc-4b927d858f72",
    "_uuid": "bc57170e29bb9249ac8d900ad39488088e8cb92c",
    "collapsed": true
   },
   "outputs": [],
   "source": [
    "np.random.seed(1)"
   ]
  },
  {
   "cell_type": "code",
   "execution_count": 9,
   "metadata": {
    "_cell_guid": "67960f80-aeda-454e-b968-27b5b2543c9e",
    "_uuid": "afa6ce53308024da1b332144489cb3219a7c8dd1",
    "collapsed": true
   },
   "outputs": [],
   "source": [
    "def to_one_hot(Y, num_items):\n",
    "    newY = np.zeros((0, num_items))\n",
    "    i = 0\n",
    "    for y in Y:\n",
    "        newy = np.zeros((1, num_items))\n",
    "        newy[0, y[0]] = 1\n",
    "        newY = np.append(newY, newy, axis=0)\n",
    "    return newY"
   ]
  },
  {
   "cell_type": "code",
   "execution_count": 10,
   "metadata": {
    "_cell_guid": "da4f8d3a-3649-402f-985f-639ed05f606e",
    "_uuid": "96c9472dcfb5ee27498c1f5ecda0de29b84a1836"
   },
   "outputs": [
    {
     "name": "stdout",
     "output_type": "stream",
     "text": [
      "label:4\n"
     ]
    },
    {
     "data": {
      "image/png": "[encoded data removed]",
      "text/plain": [
       "<matplotlib.figure.Figure at 0x1103bc550>"
      ]
     },
     "metadata": {},
     "output_type": "display_data"
    }
   ],
   "source": [
    "file_name = './input/train.csv'\n",
    "df = pd.read_csv(file_name, header = 0)\n",
    "\n",
    "original_headers = list(df.columns.values)\n",
    "numpy_array = df.as_matrix()\n",
    "\n",
    "numpy_array_random = numpy_array[:, :]\n",
    "np.random.shuffle(numpy_array_random)\n",
    "\n",
    "num_items = 10\n",
    "Y_orig = numpy_array_random[:, 1:2]\n",
    "Y = to_one_hot(Y_orig, num_items).T\n",
    "X = numpy_array_random[:, 2:].T\n",
    "X_count, m = X.shape\n",
    "x_count = int(np.sqrt(X_count))\n",
    "\n",
    "index = 5\n",
    "item = X[:, index]\n",
    "img_X = item.reshape((x_count, x_count))\n",
    "plt.imshow(img_X, shape=(x_count, x_count))\n",
    "print('label:' + str(Y_orig[index, 0]))\n",
    "\n",
    "trainSize = 25000\n",
    "devSize = (m - trainSize) // 2\n",
    "train_X, dev_X, test_X = X[:, :trainSize], X[:, trainSize:(trainSize + devSize)], X[:, (trainSize + devSize):]\n",
    "train_Y, dev_Y, test_Y = Y[:, :trainSize], Y[:, trainSize:(trainSize + devSize)], Y[:, (trainSize + devSize):]"
   ]
  },
  {
   "cell_type": "code",
   "execution_count": 11,
   "metadata": {
    "_cell_guid": "529aced7-1ffb-40c6-8a32-037936af8b68",
    "_uuid": "6df3d23c8f490d223693bc4c3057d21b7e01f5a7"
   },
   "outputs": [
    {
     "name": "stdout",
     "output_type": "stream",
     "text": [
      "             precision    recall  f1-score   support\n",
      "\n",
      "          0       1.00      0.50      0.67         4\n",
      "          1       0.60      1.00      0.75         3\n",
      "\n",
      "avg / total       0.83      0.71      0.70         7\n",
      "\n"
     ]
    }
   ],
   "source": [
    "def accuracy(p, y):\n",
    "    return np.mean(p[0, :] == y[0, :])\n",
    "    end\n",
    "\n",
    "y = np.matrix([[0, 0, 1, 0, 1, 0, 1]])\n",
    "p = np.matrix([[1, 0, 1, 0, 1, 1, 1]])\n",
    "\n",
    "print(metrics.classification_report(y.T, p.T))"
   ]
  },
  {
   "cell_type": "code",
   "execution_count": 12,
   "metadata": {
    "_cell_guid": "607caf25-371c-4a1e-92b8-6b1176393e68",
    "_uuid": "29d11f00aacc3345b61434c3b0df5e4ee5a0f705",
    "collapsed": true
   },
   "outputs": [],
   "source": [
    "def initialize_parameters(shape):\n",
    "    N = shape[0]\n",
    "    xavier = 1 / N\n",
    "\n",
    "    parameters = {}\n",
    "    momentums = {}\n",
    "    for l in range(1, len(shape)):\n",
    "        W = (np.random.randn(shape[l], shape[l-1]) * xavier)\n",
    "        b = (np.random.randn(shape[l], 1) * xavier)\n",
    "        parameters[l] = {\n",
    "            'W': W,\n",
    "            'b': b,\n",
    "        }\n",
    "        \n",
    "        momentums[l] = {\n",
    "            'Vdw': np.zeros(W.shape),\n",
    "            'Sdw': np.zeros(W.shape),\n",
    "            'Vdb': np.zeros(b.shape),\n",
    "            'Sdb': np.zeros(b.shape)\n",
    "        }\n",
    "        \n",
    "        l += 1\n",
    "    \n",
    "    return parameters, momentums\n",
    "\n",
    "# parameters = initialize_parameters(NN_shape)"
   ]
  },
  {
   "cell_type": "code",
   "execution_count": 13,
   "metadata": {
    "_cell_guid": "2b2c2853-17d0-4c60-84e1-df09065019db",
    "_uuid": "2dba10e1ea2abf4f259afdb29c730a329ead8066",
    "collapsed": true
   },
   "outputs": [],
   "source": [
    "def relu(Z):\n",
    "    return np.maximum(0, Z)\n",
    "    end\n",
    "\n",
    "def sigmoid(Z):\n",
    "    return 1 / (1 + np.exp(-Z))\n",
    "    end"
   ]
  },
  {
   "cell_type": "code",
   "execution_count": 14,
   "metadata": {
    "_cell_guid": "36d96f92-5384-42e1-9790-6ad9ca3d5529",
    "_uuid": "252521be1bc2e686896133a4ce9aa1cbd06b677b",
    "collapsed": true
   },
   "outputs": [],
   "source": [
    "def step_forward(X, W, b, activation_function = 'relu'):\n",
    "    z = np.dot(W, X) + b\n",
    "    \n",
    "    if activation_function == 'relu':\n",
    "        a = relu(z)\n",
    "    else:\n",
    "        a = sigmoid(z)\n",
    "        \n",
    "    return a, z"
   ]
  },
  {
   "cell_type": "code",
   "execution_count": 15,
   "metadata": {
    "_cell_guid": "9b15cac4-470f-46d1-8ff6-71df881def93",
    "_uuid": "087c2019ce11fb1fc4cbc88280f0c106a7ac2ff6",
    "collapsed": true
   },
   "outputs": [],
   "source": [
    "def forward_propagation(X, parameters, NN_shape):\n",
    "    cache = { 0: { 'A': X } }\n",
    "    A = X\n",
    "    L = len(NN_shape)\n",
    "    for l in range(1, L):\n",
    "        params = parameters[l]\n",
    "        if l < L-1:\n",
    "            activation_function = 'relu'\n",
    "        else:\n",
    "            activation_function = 'sigmoid'\n",
    "            \n",
    "        A, Z = step_forward(A, params['W'], params['b'], activation_function)\n",
    "        cache[l] = { 'A': A, 'Z': Z }\n",
    "        \n",
    "    return A, cache"
   ]
  },
  {
   "cell_type": "code",
   "execution_count": 16,
   "metadata": {
    "_cell_guid": "b6ad4432-4ac3-40f6-8b1f-cdd1db0e5952",
    "_uuid": "09561a5c97ce79511f8e6fcbcd336ba197024bd7",
    "collapsed": true,
    "scrolled": false
   },
   "outputs": [],
   "source": [
    "# A, cache = forward_propagation(X, parameters, NN_shape)"
   ]
  },
  {
   "cell_type": "code",
   "execution_count": 17,
   "metadata": {
    "_cell_guid": "e0410664-39a7-4075-aae9-ee3fc1c9b382",
    "_uuid": "25104f91ffd6fc1f80e11050b13ea74270e8dda0",
    "collapsed": true
   },
   "outputs": [],
   "source": [
    "def step_backward(Z, A_prev, W, b, dA, activation_function = 'relu'):\n",
    "    if activation_function == 'relu':\n",
    "        dZ = np.array(dA, copy=True)\n",
    "        dZ[Z <= 0] = 0\n",
    "    elif activation_function == 'sigmoid':\n",
    "        s = 1 / (1 + np.exp(-Z))\n",
    "        dZ = dA * s * (1-s)\n",
    "    # calculate how much should we change previous parameters\n",
    "    # by taking the previous activations\n",
    "    # and multiplying them to the current linear activations\n",
    "    dW = (np.dot(dZ, A_prev.T) / m)\n",
    "    db = np.sum(dZ, axis=1, keepdims=True) / m\n",
    "    dA = np.dot(W.T, dZ)\n",
    "    \n",
    "    return dA, dW, db"
   ]
  },
  {
   "cell_type": "code",
   "execution_count": 18,
   "metadata": {
    "_cell_guid": "194a26e6-308b-4612-a78f-1bb95dd19b77",
    "_uuid": "77a18a0c8502d79fbcc784130ed9454bab5b13b6",
    "collapsed": true
   },
   "outputs": [],
   "source": [
    "# last_layer_cache = cache[4]\n",
    "# prev_layer_cache = cache[3]\n",
    "# last_layer_params = parameters[4]\n",
    "# dAL = -(np.divide(Y, A) - np.divide(1 - Y, 1 - A))\n",
    "\n",
    "# dA, dW, db = step_backward(last_layer_cache['Z'], prev_layer_cache['A'], last_layer_params['W'], last_layer_params['b'], dAL, 'sigmoid')"
   ]
  },
  {
   "cell_type": "code",
   "execution_count": 30,
   "metadata": {
    "_cell_guid": "d54f2b8d-c389-4488-bc59-ed912b452cc4",
    "_uuid": "8643a70379fe21b6cbf0f1b9eb3e4d47a8564308",
    "collapsed": true
   },
   "outputs": [],
   "source": [
    "def backward_propagation(A, Y, parameters, NN_shape, cache):\n",
    "    dA = -(np.divide(Y, A) - np.divide(1 - Y, 1 - A))\n",
    "    grads = {}\n",
    "    for l in range(len(NN_shape)-1, 0, -1):\n",
    "        c = cache[l]\n",
    "        prev_c = cache[l-1]\n",
    "        if l == (len(NN_shape) - 1):\n",
    "            activation_function = 'sigmoid'\n",
    "        else:\n",
    "            activation_function = 'relu'\n",
    "\n",
    "        params = parameters[l]\n",
    "        dA, dW, db = step_backward(c['Z'], prev_c['A'], params['W'], params['b'], dA, activation_function)\n",
    "        grads[l] = {\n",
    "            'dW': dW,\n",
    "            'db': db\n",
    "        }\n",
    "    return grads"
   ]
  },
  {
   "cell_type": "code",
   "execution_count": 31,
   "metadata": {
    "_cell_guid": "283d6fd0-dd21-47e0-a431-89c5aca48d3b",
    "_uuid": "7305191549729892241054fc2c7bde6dd9fc0a5f",
    "collapsed": true
   },
   "outputs": [],
   "source": [
    "# grads = backward_propagation(A, Y, NN_shape, cache)"
   ]
  },
  {
   "cell_type": "code",
   "execution_count": 95,
   "metadata": {
    "_cell_guid": "bf351e5b-36d0-4c36-99b5-f2786bbb452a",
    "_uuid": "23c150c2ee42145d13404c3d6b1c321ddc605951"
   },
   "outputs": [],
   "source": [
    "def optimize_parameters(parameters, gradients, learning_rate, momentums, t = 0, beta1 = .9, beta2 = .999):\n",
    "    eps = 0.00000001\n",
    "#     print(str(t) + ': -=-=-=-=-=-=-=-=-=-=-=-=-=-=-=-=-=-=-=-=-=-=-=--')\n",
    "    \n",
    "    for l in range(1, len(NN_shape)):\n",
    "        grads = gradients[l]\n",
    "        moms = momentums[l]\n",
    "        \n",
    "#         print('layer ' + str(l) + ': >>>>>>>>>>>>>>')\n",
    "        \n",
    "        dW = grads['dW']\n",
    "        db = grads['db']\n",
    "        \n",
    "        Vdw = moms['Vdw']\n",
    "        Sdw = moms['Sdw']\n",
    "\n",
    "        Vdb = moms['Vdb']\n",
    "        Sdb = moms['Sdb']\n",
    "        \n",
    "#         print(Vdw, Vdb, Sdw, Sdb)\n",
    "                \n",
    "        Vdw = (beta1 * Vdw) + ((1 - beta1) * dW)\n",
    "        Vdb = (beta1 * Vdb) + ((1 - beta1) * db)\n",
    "        \n",
    "        Sdw = (beta2 * Sdw) + ((1 - beta2) * np.power(dW, 2))\n",
    "        Sdb = (beta2 * Sdb) + ((1 - beta2) * np.power(db, 2))\n",
    "        \n",
    "#         print('::::::::::::::::::::::::::::::::::::::::::::::::::::::::::::::::')\n",
    "        \n",
    "#         print((1 - np.power(beta1, t)), (1 - np.power(beta2, t)))\n",
    "        \n",
    "#         print(Vdw, Vdb, Sdw, Sdb)\n",
    "        \n",
    "        Vdw_corrected = Vdw / (1 - np.power(beta1, t+1))\n",
    "        Vdb_corrected = Vdb / (1 - np.power(beta1, t+1))\n",
    "        \n",
    "        Sdw_corrected = Sdw / (1 - np.power(beta2, t+1))\n",
    "        Sdb_corrected = Sdb / (1 - np.power(beta2, t+1))\n",
    "        \n",
    "        parameters[l]['W'] = parameters[l]['W'] - learning_rate * (Vdw_corrected / (np.sqrt(Sdw_corrected) + eps))\n",
    "        parameters[l]['b'] = parameters[l]['b'] - learning_rate * (Vdb_corrected / (np.sqrt(Sdb_corrected) + eps))\n",
    "\n",
    "        momentums[l]['Vdw'] = Vdw\n",
    "        momentums[l]['Vdb'] = Vdb\n",
    "        \n",
    "        momentums[l]['Sdw'] = Sdw\n",
    "        momentums[l]['Sdb'] = Sdb\n",
    "        \n",
    "    return parameters, momentums"
   ]
  },
  {
   "cell_type": "code",
   "execution_count": 136,
   "metadata": {
    "_cell_guid": "740d2473-b799-4adf-9059-bdd4f56c58a7",
    "_uuid": "b4a1023f64c1196465f79d6dd173a7e39c4a2621"
   },
   "outputs": [],
   "source": [
    "def model(NN_shape, X, Y, epoch_size = 1000, learning_rate=0.0001, num_iterations=2500, epoch_costs_count = 5000):\n",
    "    costs = []\n",
    "    temp_costs = []\n",
    "    epoch_i = 0\n",
    "    parameters, momentums = initialize_parameters(NN_shape)\n",
    "    total = X.shape[1]\n",
    "    for i in range(0, num_iterations):\n",
    "        epoch_start = 0\n",
    "        while epoch_start < total:\n",
    "            start = epoch_start\n",
    "            end = min(epoch_start + epoch_size, total)\n",
    "            \n",
    "            epoch_start = epoch_start + epoch_size\n",
    "            x = X[:, start:end]\n",
    "            y = Y[:, start:end]\n",
    "            \n",
    "            learning_rate = learning_rate / 1.001\n",
    "\n",
    "            a, cache = forward_propagation(x, parameters, NN_shape)\n",
    "            gradients = backward_propagation(a, y, parameters, NN_shape, cache)\n",
    "            parameters, momentums = optimize_parameters(parameters, gradients, learning_rate, momentums, epoch_i)\n",
    "            cost = np.mean(np.sum(((-np.dot(y,np.log(a).T) - np.dot(1-y, np.log(1 - a).T)) / epoch_size), axis=0, keepdims=True))\n",
    "            temp_costs.append(cost)\n",
    "            \n",
    "            if len(temp_costs) == epoch_costs_count:\n",
    "                epoch_i = epoch_i + 1\n",
    "                mean_costs = np.mean(temp_costs)\n",
    "                costs.append(mean_costs)\n",
    "                \n",
    "                dev_A, dev_cache = forward_propagation(dev_X, parameters, NN_shape)\n",
    "                dev_cost = np.mean(np.sum(((-np.dot(dev_Y,np.log(dev_A).T) - np.dot(1-dev_Y, np.log(1 - dev_A).T)) / dev_A.shape[1]), axis=0, keepdims=True))\n",
    "                \n",
    "                train_A, train_cache = forward_propagation(train_X, parameters, NN_shape)\n",
    "                train_cost = np.mean(np.sum(((-np.dot(train_Y,np.log(train_A).T) - np.dot(1-train_Y, np.log(1 - train_A).T)) / train_A.shape[1]), axis=0, keepdims=True))\n",
    "                \n",
    "                print(str(i) + ': cost after ' + str(epoch_costs_count) + '(' + str(epoch_costs_count * epoch_size) + ')' + ' epochs: ' + str(mean_costs) + ' | train cost: ' + str(train_cost) + ' | dev cost: ' + str(dev_cost) + ' || lr: ' + str(learning_rate))\n",
    "                temp_costs = []\n",
    "            \n",
    "#             if ((i % 100) == 0) and (i != 0):\n",
    "#                 print(str(i) + '>> cost: ' + str(cost))\n",
    "            \n",
    "    return costs, parameters, a\n",
    "\n",
    "# batch gradient descent\n",
    "#     costs = []\n",
    "#     parameters = initialize_parameters(NN_shape)\n",
    "#     for i in range(0, num_iterations):\n",
    "#         A, cache = forward_propagation(X, parameters, NN_shape)\n",
    "#         gradients = backward_propagation(A, Y, parameters, NN_shape, cache)\n",
    "#         parameters = optimize_parameters(parameters, gradients, learning_rate)\n",
    "\n",
    "#         cost = np.sum(((-np.dot(Y,np.log(A).T) - np.dot(1-Y, np.log(1 - A).T)) / m), axis=1, keepdims=True) / 10\n",
    "        \n",
    "#         if ((i % 100) == 0) and (i != 0):\n",
    "#             print(str(i) + '>> cost: ' + str(cost))"
   ]
  },
  {
   "cell_type": "code",
   "execution_count": 137,
   "metadata": {
    "_cell_guid": "afc1bf25-537c-41dc-834f-d1d113c0b638",
    "_uuid": "56c15e43cdec2a1a24cc93953f725bcfb74fb662",
    "scrolled": false
   },
   "outputs": [
    {
     "name": "stderr",
     "output_type": "stream",
     "text": [
      "/Applications/MAMP/htdocs/anaconda/lib/python3.6/site-packages/ipykernel_launcher.py:6: RuntimeWarning: overflow encountered in exp\n",
      "  \n",
      "/Applications/MAMP/htdocs/anaconda/lib/python3.6/site-packages/ipykernel_launcher.py:2: RuntimeWarning: divide by zero encountered in true_divide\n",
      "  \n",
      "/Applications/MAMP/htdocs/anaconda/lib/python3.6/site-packages/ipykernel_launcher.py:22: RuntimeWarning: divide by zero encountered in log\n"
     ]
    },
    {
     "name": "stdout",
     "output_type": "stream",
     "text": [
      "3: cost after 100(100000) epochs: nan | train cost: nan | dev cost: nan || lr: 0.452441315448893\n",
      "7: cost after 100(100000) epochs: nan | train cost: nan | dev cost: nan || lr: 0.40940628785024946\n",
      "11: cost after 100(100000) epochs: nan | train cost: nan | dev cost: nan || lr: 0.37046463885602987\n",
      "15: cost after 100(100000) epochs: nan | train cost: nan | dev cost: nan || lr: 0.33522701706264246\n"
     ]
    },
    {
     "ename": "KeyboardInterrupt",
     "evalue": "",
     "output_type": "error",
     "traceback": [
      "\u001b[0;31m---------------------------------------------------------------------------\u001b[0m",
      "\u001b[0;31mKeyboardInterrupt\u001b[0m                         Traceback (most recent call last)",
      "\u001b[0;32m<ipython-input-137-cc374f83b6ab>\u001b[0m in \u001b[0;36m<module>\u001b[0;34m()\u001b[0m\n\u001b[1;32m      4\u001b[0m \u001b[0mnum_iterations\u001b[0m \u001b[0;34m=\u001b[0m \u001b[0;36m1000\u001b[0m\u001b[0;34m\u001b[0m\u001b[0m\n\u001b[1;32m      5\u001b[0m \u001b[0mepoch_costs_count\u001b[0m \u001b[0;34m=\u001b[0m \u001b[0;36m100\u001b[0m\u001b[0;34m\u001b[0m\u001b[0m\n\u001b[0;32m----> 6\u001b[0;31m \u001b[0mcosts\u001b[0m\u001b[0;34m,\u001b[0m \u001b[0mparams\u001b[0m\u001b[0;34m,\u001b[0m \u001b[0mA\u001b[0m \u001b[0;34m=\u001b[0m \u001b[0mmodel\u001b[0m\u001b[0;34m(\u001b[0m\u001b[0mNN_shape\u001b[0m\u001b[0;34m,\u001b[0m \u001b[0mtrain_X\u001b[0m\u001b[0;34m,\u001b[0m \u001b[0mtrain_Y\u001b[0m\u001b[0;34m,\u001b[0m \u001b[0mepoch_size\u001b[0m\u001b[0;34m,\u001b[0m \u001b[0mlearning_rate\u001b[0m\u001b[0;34m,\u001b[0m \u001b[0mnum_iterations\u001b[0m\u001b[0;34m,\u001b[0m \u001b[0mepoch_costs_count\u001b[0m\u001b[0;34m)\u001b[0m\u001b[0;34m\u001b[0m\u001b[0m\n\u001b[0m",
      "\u001b[0;32m<ipython-input-136-cd61872d5cf6>\u001b[0m in \u001b[0;36mmodel\u001b[0;34m(NN_shape, X, Y, epoch_size, learning_rate, num_iterations, epoch_costs_count)\u001b[0m\n\u001b[1;32m     17\u001b[0m             \u001b[0mlearning_rate\u001b[0m \u001b[0;34m=\u001b[0m \u001b[0mlearning_rate\u001b[0m \u001b[0;34m/\u001b[0m \u001b[0;36m1.001\u001b[0m\u001b[0;34m\u001b[0m\u001b[0m\n\u001b[1;32m     18\u001b[0m \u001b[0;34m\u001b[0m\u001b[0m\n\u001b[0;32m---> 19\u001b[0;31m             \u001b[0ma\u001b[0m\u001b[0;34m,\u001b[0m \u001b[0mcache\u001b[0m \u001b[0;34m=\u001b[0m \u001b[0mforward_propagation\u001b[0m\u001b[0;34m(\u001b[0m\u001b[0mx\u001b[0m\u001b[0;34m,\u001b[0m \u001b[0mparameters\u001b[0m\u001b[0;34m,\u001b[0m \u001b[0mNN_shape\u001b[0m\u001b[0;34m)\u001b[0m\u001b[0;34m\u001b[0m\u001b[0m\n\u001b[0m\u001b[1;32m     20\u001b[0m             \u001b[0mgradients\u001b[0m \u001b[0;34m=\u001b[0m \u001b[0mbackward_propagation\u001b[0m\u001b[0;34m(\u001b[0m\u001b[0ma\u001b[0m\u001b[0;34m,\u001b[0m \u001b[0my\u001b[0m\u001b[0;34m,\u001b[0m \u001b[0mparameters\u001b[0m\u001b[0;34m,\u001b[0m \u001b[0mNN_shape\u001b[0m\u001b[0;34m,\u001b[0m \u001b[0mcache\u001b[0m\u001b[0;34m)\u001b[0m\u001b[0;34m\u001b[0m\u001b[0m\n\u001b[1;32m     21\u001b[0m             \u001b[0mparameters\u001b[0m\u001b[0;34m,\u001b[0m \u001b[0mmomentums\u001b[0m \u001b[0;34m=\u001b[0m \u001b[0moptimize_parameters\u001b[0m\u001b[0;34m(\u001b[0m\u001b[0mparameters\u001b[0m\u001b[0;34m,\u001b[0m \u001b[0mgradients\u001b[0m\u001b[0;34m,\u001b[0m \u001b[0mlearning_rate\u001b[0m\u001b[0;34m,\u001b[0m \u001b[0mmomentums\u001b[0m\u001b[0;34m,\u001b[0m \u001b[0mepoch_i\u001b[0m\u001b[0;34m)\u001b[0m\u001b[0;34m\u001b[0m\u001b[0m\n",
      "\u001b[0;32m<ipython-input-15-cca0fbab095c>\u001b[0m in \u001b[0;36mforward_propagation\u001b[0;34m(X, parameters, NN_shape)\u001b[0m\n\u001b[1;32m     10\u001b[0m             \u001b[0mactivation_function\u001b[0m \u001b[0;34m=\u001b[0m \u001b[0;34m'sigmoid'\u001b[0m\u001b[0;34m\u001b[0m\u001b[0m\n\u001b[1;32m     11\u001b[0m \u001b[0;34m\u001b[0m\u001b[0m\n\u001b[0;32m---> 12\u001b[0;31m         \u001b[0mA\u001b[0m\u001b[0;34m,\u001b[0m \u001b[0mZ\u001b[0m \u001b[0;34m=\u001b[0m \u001b[0mstep_forward\u001b[0m\u001b[0;34m(\u001b[0m\u001b[0mA\u001b[0m\u001b[0;34m,\u001b[0m \u001b[0mparams\u001b[0m\u001b[0;34m[\u001b[0m\u001b[0;34m'W'\u001b[0m\u001b[0;34m]\u001b[0m\u001b[0;34m,\u001b[0m \u001b[0mparams\u001b[0m\u001b[0;34m[\u001b[0m\u001b[0;34m'b'\u001b[0m\u001b[0;34m]\u001b[0m\u001b[0;34m,\u001b[0m \u001b[0mactivation_function\u001b[0m\u001b[0;34m)\u001b[0m\u001b[0;34m\u001b[0m\u001b[0m\n\u001b[0m\u001b[1;32m     13\u001b[0m         \u001b[0mcache\u001b[0m\u001b[0;34m[\u001b[0m\u001b[0ml\u001b[0m\u001b[0;34m]\u001b[0m \u001b[0;34m=\u001b[0m \u001b[0;34m{\u001b[0m \u001b[0;34m'A'\u001b[0m\u001b[0;34m:\u001b[0m \u001b[0mA\u001b[0m\u001b[0;34m,\u001b[0m \u001b[0;34m'Z'\u001b[0m\u001b[0;34m:\u001b[0m \u001b[0mZ\u001b[0m \u001b[0;34m}\u001b[0m\u001b[0;34m\u001b[0m\u001b[0m\n\u001b[1;32m     14\u001b[0m \u001b[0;34m\u001b[0m\u001b[0m\n",
      "\u001b[0;32m<ipython-input-14-1c74fb2302bd>\u001b[0m in \u001b[0;36mstep_forward\u001b[0;34m(X, W, b, activation_function)\u001b[0m\n\u001b[1;32m      1\u001b[0m \u001b[0;32mdef\u001b[0m \u001b[0mstep_forward\u001b[0m\u001b[0;34m(\u001b[0m\u001b[0mX\u001b[0m\u001b[0;34m,\u001b[0m \u001b[0mW\u001b[0m\u001b[0;34m,\u001b[0m \u001b[0mb\u001b[0m\u001b[0;34m,\u001b[0m \u001b[0mactivation_function\u001b[0m \u001b[0;34m=\u001b[0m \u001b[0;34m'relu'\u001b[0m\u001b[0;34m)\u001b[0m\u001b[0;34m:\u001b[0m\u001b[0;34m\u001b[0m\u001b[0m\n\u001b[0;32m----> 2\u001b[0;31m     \u001b[0mz\u001b[0m \u001b[0;34m=\u001b[0m \u001b[0mnp\u001b[0m\u001b[0;34m.\u001b[0m\u001b[0mdot\u001b[0m\u001b[0;34m(\u001b[0m\u001b[0mW\u001b[0m\u001b[0;34m,\u001b[0m \u001b[0mX\u001b[0m\u001b[0;34m)\u001b[0m \u001b[0;34m+\u001b[0m \u001b[0mb\u001b[0m\u001b[0;34m\u001b[0m\u001b[0m\n\u001b[0m\u001b[1;32m      3\u001b[0m \u001b[0;34m\u001b[0m\u001b[0m\n\u001b[1;32m      4\u001b[0m     \u001b[0;32mif\u001b[0m \u001b[0mactivation_function\u001b[0m \u001b[0;34m==\u001b[0m \u001b[0;34m'relu'\u001b[0m\u001b[0;34m:\u001b[0m\u001b[0;34m\u001b[0m\u001b[0m\n\u001b[1;32m      5\u001b[0m         \u001b[0ma\u001b[0m \u001b[0;34m=\u001b[0m \u001b[0mrelu\u001b[0m\u001b[0;34m(\u001b[0m\u001b[0mz\u001b[0m\u001b[0;34m)\u001b[0m\u001b[0;34m\u001b[0m\u001b[0m\n",
      "\u001b[0;31mKeyboardInterrupt\u001b[0m: "
     ]
    }
   ],
   "source": [
    "NN_shape = np.array([X_count, 50, 25, 25, 20, 15, 10])\n",
    "epoch_size = 1000\n",
    "learning_rate = .5\n",
    "num_iterations = 1000\n",
    "epoch_costs_count = 100\n",
    "costs, params, A = model(NN_shape, train_X, train_Y, epoch_size, learning_rate, num_iterations, epoch_costs_count)"
   ]
  }
 ],
 "metadata": {
  "kernelspec": {
   "display_name": "Python 3",
   "language": "python",
   "name": "python3"
  },
  "language_info": {
   "codemirror_mode": {
    "name": "ipython",
    "version": 3
   },
   "file_extension": ".py",
   "mimetype": "text/x-python",
   "name": "python",
   "nbconvert_exporter": "python",
   "pygments_lexer": "ipython3",
   "version": "3.6.1"
  }
 },
 "nbformat": 4,
 "nbformat_minor": 1
}
